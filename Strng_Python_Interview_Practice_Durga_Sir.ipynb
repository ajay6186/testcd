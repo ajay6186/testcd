{
  "nbformat": 4,
  "nbformat_minor": 0,
  "metadata": {
    "colab": {
      "name": "Strng_Python_Interview_Practice_Durga_Sir.ipynb",
      "provenance": [],
      "collapsed_sections": [],
      "authorship_tag": "ABX9TyNb3wvlHSmneAlh5PqPojnq",
      "include_colab_link": true
    },
    "kernelspec": {
      "name": "python3",
      "display_name": "Python 3"
    },
    "language_info": {
      "name": "python"
    }
  },
  "cells": [
    {
      "cell_type": "markdown",
      "metadata": {
        "id": "view-in-github",
        "colab_type": "text"
      },
      "source": [
        "<a href=\"https://colab.research.google.com/github/ajay6186/testcd/blob/master/Strng_Python_Interview_Practice_Durga_Sir.ipynb\" target=\"_parent\"><img src=\"https://colab.research.google.com/assets/colab-badge.svg\" alt=\"Open In Colab\"/></a>"
      ]
    },
    {
      "cell_type": "markdown",
      "metadata": {
        "id": "5bA8wuCOMwAl"
      },
      "source": [
        "Q1. What is String ?"
      ]
    },
    {
      "cell_type": "markdown",
      "metadata": {
        "id": "parlwH8lM370"
      },
      "source": [
        "Ans: Any squence of characters within either single quotes or double quotes is considered as a String"
      ]
    },
    {
      "cell_type": "code",
      "metadata": {
        "colab": {
          "base_uri": "https://localhost:8080/"
        },
        "id": "OQlvm9YONzX-",
        "outputId": "c92dfd94-a865-4d97-aa6a-e3599d7813d9"
      },
      "source": [
        "ch='a'\n",
        "print(type(ch))"
      ],
      "execution_count": null,
      "outputs": [
        {
          "output_type": "stream",
          "name": "stdout",
          "text": [
            "<class 'str'>\n"
          ]
        }
      ]
    },
    {
      "cell_type": "markdown",
      "metadata": {
        "id": "pWpJ24LjPjX0"
      },
      "source": [
        "Q2 . How to Access Characters of a String ?"
      ]
    },
    {
      "cell_type": "markdown",
      "metadata": {
        "id": "jJ_m3rmoPwZp"
      },
      "source": [
        "Ans: we can access characters of a string by using the following ways.\n",
        "\n",
        "\n",
        "```\n",
        "# 1) By using index\n",
        "  2) By using slice operator\n",
        "```\n",
        "\n"
      ]
    },
    {
      "cell_type": "markdown",
      "metadata": {
        "id": "7FfiFEH_Q0c1"
      },
      "source": [
        "Q3. How to Accessing Characters By usig Index."
      ]
    },
    {
      "cell_type": "code",
      "metadata": {
        "colab": {
          "base_uri": "https://localhost:8080/",
          "height": 244
        },
        "id": "CXUN0DypRKn6",
        "outputId": "f66a14fb-93ec-41d9-e78b-6c98016ea1ef"
      },
      "source": [
        "s='durga'\n",
        "print(s[0])\n",
        "print(s[-1])\n",
        "print(s[10])"
      ],
      "execution_count": null,
      "outputs": [
        {
          "output_type": "stream",
          "name": "stdout",
          "text": [
            "d\n",
            "a\n"
          ]
        },
        {
          "output_type": "error",
          "ename": "IndexError",
          "evalue": "ignored",
          "traceback": [
            "\u001b[0;31m---------------------------------------------------------------------------\u001b[0m",
            "\u001b[0;31mIndexError\u001b[0m                                Traceback (most recent call last)",
            "\u001b[0;32m<ipython-input-16-63951c18b667>\u001b[0m in \u001b[0;36m<module>\u001b[0;34m()\u001b[0m\n\u001b[1;32m      2\u001b[0m \u001b[0mprint\u001b[0m\u001b[0;34m(\u001b[0m\u001b[0ms\u001b[0m\u001b[0;34m[\u001b[0m\u001b[0;36m0\u001b[0m\u001b[0;34m]\u001b[0m\u001b[0;34m)\u001b[0m\u001b[0;34m\u001b[0m\u001b[0;34m\u001b[0m\u001b[0m\n\u001b[1;32m      3\u001b[0m \u001b[0mprint\u001b[0m\u001b[0;34m(\u001b[0m\u001b[0ms\u001b[0m\u001b[0;34m[\u001b[0m\u001b[0;34m-\u001b[0m\u001b[0;36m1\u001b[0m\u001b[0;34m]\u001b[0m\u001b[0;34m)\u001b[0m\u001b[0;34m\u001b[0m\u001b[0;34m\u001b[0m\u001b[0m\n\u001b[0;32m----> 4\u001b[0;31m \u001b[0mprint\u001b[0m\u001b[0;34m(\u001b[0m\u001b[0ms\u001b[0m\u001b[0;34m[\u001b[0m\u001b[0;36m10\u001b[0m\u001b[0;34m]\u001b[0m\u001b[0;34m)\u001b[0m\u001b[0;34m\u001b[0m\u001b[0;34m\u001b[0m\u001b[0m\n\u001b[0m",
            "\u001b[0;31mIndexError\u001b[0m: string index out of range"
          ]
        }
      ]
    },
    {
      "cell_type": "markdown",
      "metadata": {
        "id": "8nPtr2E2SFRR"
      },
      "source": [
        "Q4. Write a Program to Accept some String from the Keyboard and display its Characters by Index wise (both Positive and Negative Index)\n",
        "\n",
        "\n"
      ]
    },
    {
      "cell_type": "code",
      "metadata": {
        "id": "XViyhnEOYXon"
      },
      "source": [
        "jay"
      ],
      "execution_count": null,
      "outputs": []
    },
    {
      "cell_type": "code",
      "metadata": {
        "colab": {
          "base_uri": "https://localhost:8080/"
        },
        "id": "rVYc0OoBU4Qg",
        "outputId": "571e7365-c4ab-4957-8a99-9731f5d5ec16"
      },
      "source": [
        "s=input(\"Enter Your Name : \")\n",
        "print(s)\n",
        "i = 0\n",
        "for x in s:\n",
        "  # print(\"length of String: \",len(s))\n",
        "  n = i - len(s)\n",
        "  # print(x)\n",
        "  # print(i)\n",
        "  print(f\"index Positive number : {i}, index negative number : {n} string charactor {x}\")\n",
        "  i = i+1\n"
      ],
      "execution_count": null,
      "outputs": [
        {
          "output_type": "stream",
          "name": "stdout",
          "text": [
            "Enter Your Name : ajay\n",
            "ajay\n",
            "index Positive number : 0, index negative number : -4 string charactor a\n",
            "index Positive number : 1, index negative number : -3 string charactor j\n",
            "index Positive number : 2, index negative number : -2 string charactor a\n",
            "index Positive number : 3, index negative number : -1 string charactor y\n"
          ]
        }
      ]
    },
    {
      "cell_type": "markdown",
      "metadata": {
        "id": "PZPOYd4VeVZh"
      },
      "source": [
        "Q5. Accessing Characters by using Slice Operator\n",
        "\n",
        "---\n",
        "\n",
        "\n",
        "Ans: String[ Begin Index : End Index : Step ]"
      ]
    },
    {
      "cell_type": "code",
      "metadata": {
        "colab": {
          "base_uri": "https://localhost:8080/"
        },
        "id": "wDKxPKi4ffWo",
        "outputId": "d19bbb4f-b58d-4252-bef7-966fd0048aa3"
      },
      "source": [
        "s = \"Learning Python is very very easy \"\n",
        "print(s[0:7])\n",
        "print(s[1:7])\n",
        "print(s[1:7:])\n",
        "print(s[2:7])\n",
        "print(s[0:8:1])\n",
        "print(s[0:8:2])\n",
        "print(s[0:8:3])\n",
        "print(s[:7])\n",
        "print(s[7:])\n",
        "print(s[::])\n",
        "print(s[:])\n",
        "print(s[::-1])"
      ],
      "execution_count": 64,
      "outputs": [
        {
          "output_type": "stream",
          "name": "stdout",
          "text": [
            "Learnin\n",
            "earnin\n",
            "earnin\n",
            "arnin\n",
            "Learning\n",
            "Lann\n",
            "Lrn\n",
            "Learnin\n",
            "g Python is very very easy \n",
            "Learning Python is very very easy \n",
            "Learning Python is very very easy \n",
            " ysae yrev yrev si nohtyP gninraeL\n"
          ]
        }
      ]
    },
    {
      "cell_type": "markdown",
      "metadata": {
        "id": "yMBTGLke0oku"
      },
      "source": [
        "# Behavior of Slice Operator\n",
        "---\n",
        "  In Forward Direction\n",
        "      \n",
        "\n",
        "1.   default value for bEgin : 0\n",
        "2.   default value for end : length of string\n",
        "3.   default value for step: +1\n",
        "\n",
        "\n",
        "---\n",
        "In Backward Direction\n",
        "\n",
        "1.   default value for bEgin: -1\n",
        "2.   default value for end: -(length of string +1)\n",
        "\n",
        "\n",
        "\n",
        "\n",
        "\n"
      ]
    },
    {
      "cell_type": "markdown",
      "metadata": {
        "id": "SfGEILCU5SxL"
      },
      "source": [
        "Slice Operator Case Study\n",
        "\n",
        "---\n",
        "\n"
      ]
    },
    {
      "cell_type": "code",
      "metadata": {
        "colab": {
          "base_uri": "https://localhost:8080/"
        },
        "id": "RoPUUVqc5i2N",
        "outputId": "8fb803cd-41a5-4bd0-f300-a8eaa27c3dd3"
      },
      "source": [
        "S = 'abcdefghij'\n",
        "print(S[1:6:2])\n",
        "print(S[::1])\n",
        "print(S[::-1])\n",
        "print(S[3:7:-1]) #This type of indexing is wrong\n",
        "print(S[7:4:-1])\n",
        "print(S[0:10000:1])\n",
        "print(S[-4:1:-1])\n",
        "print(S[-4:1:-2])\n",
        "print(S[5:0:1]) #This type of indexing is wrong\n",
        "# print(S[9:0:0]) #ValueError : slice step cannot be zero\n",
        "print(S[0:-10:-1]) #This type of indexing is wrong\n",
        "print(S[0:-11:-1])\n",
        "print(S[0:0:1]) #This type of indexing is wrong\n",
        "print(S[0:-9:-2]) #This type of indexing is wrong\n",
        "print(S[-5:-9:-2])\n",
        "print(S[10:-1:-1]) #This type of indexing is wrong\n",
        "print(S[10000:2:-1])"
      ],
      "execution_count": 88,
      "outputs": [
        {
          "output_type": "stream",
          "name": "stdout",
          "text": [
            "bdf\n",
            "abcdefghij\n",
            "jihgfedcba\n",
            "\n",
            "hgf\n",
            "abcdefghij\n",
            "gfedc\n",
            "gec\n",
            "\n",
            "\n",
            "a\n",
            "\n",
            "\n",
            "fd\n",
            "\n",
            "jihgfed\n"
          ]
        }
      ]
    },
    {
      "cell_type": "markdown",
      "metadata": {
        "id": "d0f3EESeKX8-"
      },
      "source": [
        "Note : Slice operator never raise indexError"
      ]
    },
    {
      "cell_type": "markdown",
      "metadata": {
        "id": "2RNrMDmbK_86"
      },
      "source": [
        "Mathematical Operators for String\n",
        "\n",
        "---\n",
        "\n",
        "Two type of String Mathematical Operator \n",
        "1.   \" + \" operator for concatenation\n",
        "2.   \" * \" operator for repetition\n",
        "\n",
        "\n",
        "\n"
      ]
    },
    {
      "cell_type": "code",
      "metadata": {
        "colab": {
          "base_uri": "https://localhost:8080/"
        },
        "id": "gpjsSmqYL4zP",
        "outputId": "9f313def-5da8-44fa-aeb9-60e86386f42a"
      },
      "source": [
        "print(\"Durga\"+\"Soft\")\n",
        "print(\"Durga\"*2)"
      ],
      "execution_count": 90,
      "outputs": [
        {
          "output_type": "stream",
          "name": "stdout",
          "text": [
            "DurgaSoft\n",
            "DurgaDurga\n"
          ]
        }
      ]
    },
    {
      "cell_type": "markdown",
      "metadata": {
        "id": "AIZ-CNNrMRhW"
      },
      "source": [
        "len() in-build Function\n",
        "\n",
        "```\n",
        "# For this using len() function to find the number of characters present in the string.\n",
        "```\n",
        "\n"
      ]
    },
    {
      "cell_type": "code",
      "metadata": {
        "colab": {
          "base_uri": "https://localhost:8080/"
        },
        "id": "YNNwR1eSMyba",
        "outputId": "7154fda7-cc5e-4311-998a-9f4e21a92cad"
      },
      "source": [
        "s=\"Durga\"\n",
        "print(len(s))"
      ],
      "execution_count": 91,
      "outputs": [
        {
          "output_type": "stream",
          "name": "stdout",
          "text": [
            "5\n"
          ]
        }
      ]
    },
    {
      "cell_type": "markdown",
      "metadata": {
        "id": "pWkPv_i6M9_a"
      },
      "source": [
        "Q. Write a program to access each Character of string in Forward and Backward Direction by using while Loop ?"
      ]
    },
    {
      "cell_type": "code",
      "metadata": {
        "colab": {
          "base_uri": "https://localhost:8080/"
        },
        "id": "XXHogZRqNZkJ",
        "outputId": "72638b72-972b-4b43-8696-7235b9b5b2d1"
      },
      "source": [
        "s = \"Ajay Yadav\"\n",
        "i = 0\n",
        "while i<len(s):\n",
        "  print(\"Forward Direction Character String : \",s[i]) \n",
        "  i += 1\n",
        "i = 1\n",
        "while i<=len(s):\n",
        "  print(\"Backward Direction Character String : \",s[-i],-i) \n",
        "  i += 1"
      ],
      "execution_count": 111,
      "outputs": [
        {
          "output_type": "stream",
          "name": "stdout",
          "text": [
            "Forward Direction Character String :  A\n",
            "Forward Direction Character String :  j\n",
            "Forward Direction Character String :  a\n",
            "Forward Direction Character String :  y\n",
            "Forward Direction Character String :   \n",
            "Forward Direction Character String :  Y\n",
            "Forward Direction Character String :  a\n",
            "Forward Direction Character String :  d\n",
            "Forward Direction Character String :  a\n",
            "Forward Direction Character String :  v\n",
            "Backward Direction Character String :  v -1\n",
            "Backward Direction Character String :  a -2\n",
            "Backward Direction Character String :  d -3\n",
            "Backward Direction Character String :  a -4\n",
            "Backward Direction Character String :  Y -5\n",
            "Backward Direction Character String :    -6\n",
            "Backward Direction Character String :  y -7\n",
            "Backward Direction Character String :  a -8\n",
            "Backward Direction Character String :  j -9\n",
            "Backward Direction Character String :  A -10\n"
          ]
        }
      ]
    },
    {
      "cell_type": "markdown",
      "metadata": {
        "id": "p57S3dDkSTJ4"
      },
      "source": [
        "Alternative ways:"
      ]
    },
    {
      "cell_type": "code",
      "metadata": {
        "colab": {
          "base_uri": "https://localhost:8080/"
        },
        "id": "VWpFStDbSi6R",
        "outputId": "42315ded-f015-4bb2-d73f-6c472678e615"
      },
      "source": [
        "s = \"Ajay Yadav\"\n",
        "n = len(s)\n",
        "i = 0\n",
        "print(\"Forward direction\")\n",
        "while i<n:\n",
        "  print(s[i],end=\"\")\n",
        "  i+=1\n",
        "print(\"Backward direction\")\n",
        "i = -1\n",
        "while i>=n:\n",
        "  print(s[i],end=\"\")\n",
        "  i = i-1"
      ],
      "execution_count": 112,
      "outputs": [
        {
          "output_type": "stream",
          "name": "stdout",
          "text": [
            "Forward direction\n",
            "Ajay Yadav"
          ]
        }
      ]
    }
  ]
}